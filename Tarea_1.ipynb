{
  "nbformat": 4,
  "nbformat_minor": 0,
  "metadata": {
    "colab": {
      "provenance": []
    },
    "kernelspec": {
      "name": "python3",
      "display_name": "Python 3"
    },
    "language_info": {
      "name": "python"
    }
  },
  "cells": [
    {
      "cell_type": "markdown",
      "source": [
        "# **CD2201-16: Ciencia de Datos en Astronomía**\n",
        "\n",
        "**Profesores:** Boris Cuevas, Paula Díaz, Danilo Sepúlveda, Francisco Urbina\n",
        "# **Tarea 1: Introducción a Numpy, Pandas y Matplotlib**\n",
        "\n",
        "El objetivo de esta tarea es repasar y aprender contenidos básicos de estas librerías que les serán útiles para el resto del curso.\n",
        "\n",
        "Recordar las instrucciones mencionadas en clases:\n",
        "1. Para hacer esta tarea tienen que hacer un fork del repositorio en sus\n",
        "cuentas de GitHub.\n",
        "2. Luego deben habilitar sus cuentas de Google Colab (cuenta Google requerida)\n",
        "3. Abrir Google Colab y seleccionar \"abrir un archivo desde GitHub\". Deben seleccionar su cuenta Github y escoger el repositorio que corresponde al fork que hicieron.\n",
        "4. Si todo sale bien, debería abrirse una copia de este notebook en su cuenta de Google Colab.\n",
        "5. Cada vez que completen un ítem, deben guardar un avance en su fork de GitHub, de modo de respaldar cada avance significativo. Usen comentarios coherentes con cada respaldo \"Sección de Numpy completada\", \"Tarea terminada\", no solamente el que pone por defecto."
      ],
      "metadata": {
        "id": "16GoZcqSj59y"
      }
    },
    {
      "cell_type": "code",
      "execution_count": 1,
      "metadata": {
        "id": "hfEl2sNqjy46"
      },
      "outputs": [],
      "source": [
        "# Antes de comenzar con la tarea debe correr esta celda para importar las librerías principales a utilizar\n",
        "import numpy as np\n",
        "import pandas as pd\n",
        "import matplotlib.pyplot as plt"
      ]
    },
    {
      "cell_type": "markdown",
      "source": [
        "## 1. Numpy (Tiempo estimado: 15 min)\n",
        "\n",
        "Una de las características principales que vuelven a Numpy tan útil son sus capacidades algebráicas, y la posibilidad de trabajar con conjuntos de datos de N dimensiones, lo que permite acelerar cálculos. Para destacar esto, a continuación se hacen una serie de ejercicios simples donde se pide que realicen las mismas operaciones usando Numpy y las listas de Python, y que luego comparen cuánto tarda cada operación.\n",
        "\n",
        "Para visualizar la velocidad de Numpy respecto a las listas de Python, deberán correr las funciones que se les pide a continuación con $\\textit{%timeit}$, de la siguiente manera:\n",
        "\n",
        "```\n",
        "%timeit nombre_funcion(parametro_1, parametro_2)\n",
        "```\n",
        "\n",
        "Esto entregará como output el tiempo medio que toma en correr la función y la desviación estándar\n"
      ],
      "metadata": {
        "id": "0NjxHVI_mP_3"
      }
    },
    {
      "cell_type": "markdown",
      "source": [
        "### Crear arreglos y listas\n",
        "A continuación debes crear un par de listas de Python y un par de arreglos de Numpy. Estos arreglos son los que se utilizarán para testear las funciones que crearás en las celdas siguientes.\n",
        "\n",
        "La primera lista debe ser una secuencia de números enteros desde 1 hasta 49. La segunda debe ir desde 101 hasta 149. Lo mismo para los arreglos."
      ],
      "metadata": {
        "id": "smHj4qfGShtj"
      }
    },
    {
      "cell_type": "code",
      "source": [
        "# Cree las listas aquí\n",
        "a_list = list(range(1, 50))\n",
        "b_list = list(range(101, 150))\n",
        "\n",
        "# Cree los arreglos aquí\n",
        "a_arr = np.arange(1, 50)\n",
        "b_arr = np.arange(101, 150)"
      ],
      "metadata": {
        "id": "BikeWkWA5t4b"
      },
      "execution_count": null,
      "outputs": []
    },
    {
      "cell_type": "markdown",
      "source": [
        "### Suma de listas de elementos\n",
        "\n",
        "* Cree la función $\\textbf{suma_listas}$, que sume 2 listas de python $a$ y $b$.\n",
        "* Cree la función $\\textbf{suma_arrays}$, que sume 2 arrays de numpy $a$ y $b$.\n",
        "* Compare la eficiencia de las 2 funciones utilizando $\\textit{%timeit}$ para cada una"
      ],
      "metadata": {
        "id": "DupO44VCnjEg"
      }
    },
    {
      "cell_type": "code",
      "source": [
        "# Cree las funciones aquí\n",
        "def suma_listas(a, b):\n",
        "  suma = [a[i] + b[i] for i in range(len(a))]\n",
        "  return suma\n",
        "\n",
        "def suma_arrays(a, b):\n",
        "  return a+b"
      ],
      "metadata": {
        "id": "yVU8xCTBniE1"
      },
      "execution_count": null,
      "outputs": []
    },
    {
      "cell_type": "code",
      "source": [
        "# Compare el tiempo aquí\n",
        "print(\"Tiempo suma_listas:\")\n",
        "%timeit suma_listas(a_list, b_list)\n",
        "\n",
        "print(\"Tiempo suma_arrays:\")\n",
        "%timeit suma_arrays(a_arr, b_arr)"
      ],
      "metadata": {
        "id": "4OPI4T88kqHQ",
        "outputId": "f6b28185-83ab-4327-ca0d-e057d02f9248",
        "colab": {
          "base_uri": "https://localhost:8080/"
        }
      },
      "execution_count": null,
      "outputs": [
        {
          "output_type": "stream",
          "name": "stdout",
          "text": [
            "Tiempo suma_listas:\n",
            "13.5 µs ± 4.65 µs per loop (mean ± std. dev. of 7 runs, 100000 loops each)\n",
            "Tiempo suma_arrays:\n",
            "806 ns ± 238 ns per loop (mean ± std. dev. of 7 runs, 1000000 loops each)\n"
          ]
        }
      ]
    },
    {
      "cell_type": "markdown",
      "source": [
        "### Multiplicación de listas de elementos\n",
        "\n",
        "* Cree la función $\\textbf{mupliply_listas}$, que multiplique 2 listas de python $a$ y $b$\n",
        "* Cree la función $\\textbf{mupliply_arrays}$, que multiplique 2 listas de python $a$ y $b$\n",
        "* Compare la eficiencia de las 2 funciones utilizando $\\textit{%timeit}$ para cada una"
      ],
      "metadata": {
        "id": "plK2_G1OsOT2"
      }
    },
    {
      "cell_type": "code",
      "source": [
        "# Cree las funciones aquí\n",
        "def mupliply_listas(a, b):\n",
        "  multiplicacion = [a[i] * b[i] for i in range(len(a))]\n",
        "  return multiplicacion\n",
        "\n",
        "def mupliply_arrays(a, b):\n",
        "  return a*b"
      ],
      "metadata": {
        "id": "Od2fkhtcd_Ie"
      },
      "execution_count": null,
      "outputs": []
    },
    {
      "cell_type": "code",
      "source": [
        "# Compare el tiempo aquí\n",
        "print(\"Tiempo mupliply_listas:\")\n",
        "%timeit mupliply_listas(a_list, b_list)\n",
        "\n",
        "print(\"Tiempo mupliply_arrays:\")\n",
        "%timeit mupliply_arrays(a_arr, b_arr)"
      ],
      "metadata": {
        "id": "Gs_6x-HHkwlp",
        "outputId": "903448dd-98be-4749-ec85-95ffecc46e18",
        "colab": {
          "base_uri": "https://localhost:8080/"
        }
      },
      "execution_count": null,
      "outputs": [
        {
          "output_type": "stream",
          "name": "stdout",
          "text": [
            "Tiempo mupliply_listas:\n",
            "6.24 µs ± 784 ns per loop (mean ± std. dev. of 7 runs, 100000 loops each)\n",
            "Tiempo mupliply_arrays:\n",
            "935 ns ± 207 ns per loop (mean ± std. dev. of 7 runs, 1000000 loops each)\n"
          ]
        }
      ]
    },
    {
      "cell_type": "markdown",
      "source": [
        "### Aplicación práctica (IMF de Salpeter)\n",
        "\n",
        "Las Funciones de Masa Inicial (IMF) son muy útil es astronomía pues nos da cuenta de un estimado del número de estrellas que se van a formar en un periodo de formación estelar a partir de un reservorio de masa M [referencia](https://es.wikipedia.org/wiki/Función_de_masa_inicial), lo que permite estudiar poblaciones estelares. En particular, si tenemos un rango de masas $[M_1, M_2]$, se puede demostrar que el número de estrellas que nacerán de un reservorio de masa $\\xi_0$ (ignorar unidades) está dada por ecuación $(1)$\n",
        "\n",
        "$$N = \\frac{\\xi_0}{1.35} (M_1^{-1.35} - M_2^{-1.35}) \\tag{1}$$\n",
        "\n",
        "Para esta prueba usted debe:\n",
        "\n",
        "* Crear un array de masas $\\textbf{lista_masas}$ que vaya desde $0.2 M_{\\odot}$ hasta $80 M_{\\odot}$, con pasos de $0.05 M_{\\odot}$. Note que para este ejercicio puede ignorar la unidad de la masa.\n",
        "* Recrear la ecuación $(1)$ como función en python. Considere $\\xi_0=1$\n",
        "* Calcular el número de estrellas que se formarán por intervalo de $\\textbf{lista_masas}$, en $[0.2, 0.25], [0.25, 0.3], [0.3, 0.35], ..., [79.9, 79.95] y [79.95, 80]$ utilizando Numpy.\n",
        "* Luego calcule el número total de estrellas formadas, es decir, sume todos los números de estrellas calculados en el punto anterior.\n"
      ],
      "metadata": {
        "id": "eUcXxyJyuZBy"
      }
    },
    {
      "cell_type": "code",
      "source": [
        "# Cree el arreglo\n",
        "lista_masas = np.arange(0.2, 80.05, 0.05)"
      ],
      "metadata": {
        "id": "qyKU01dsuYV6"
      },
      "execution_count": null,
      "outputs": []
    },
    {
      "cell_type": "code",
      "source": [
        "# Cree la función que se le pide\n",
        "def IMF(m1, m2):\n",
        "  N = (m1**-1.35 - m2**-1.35)/1.35\n",
        "  return N"
      ],
      "metadata": {
        "id": "sZpzRClhk8DJ"
      },
      "execution_count": null,
      "outputs": []
    },
    {
      "cell_type": "code",
      "source": [
        "# Haga los cálculos aquí\n",
        "estrellas = np.array([])\n",
        "for i in range(np.size(lista_masas) - 1):\n",
        "  estrellas = np.append(estrellas, IMF(lista_masas[i], lista_masas[i+1]))\n",
        "\n",
        "print(estrellas)\n",
        "print(estrellas.sum())"
      ],
      "metadata": {
        "id": "Ov6W97KTlGLd",
        "outputId": "96b6b89d-54cf-4d69-fa3e-c71d98bb6b39",
        "colab": {
          "base_uri": "https://localhost:8080/"
        }
      },
      "execution_count": null,
      "outputs": [
        {
          "output_type": "stream",
          "name": "stdout",
          "text": [
            "[1.69207841e+00 1.05018880e+00 7.07010806e-01 ... 1.69162663e-06\n",
            " 1.68914077e-06 1.68666012e-06]\n",
            "6.503428407627911\n"
          ]
        }
      ]
    },
    {
      "cell_type": "markdown",
      "source": [
        "## 2. Pandas (Tiempo estimado 20 min)\n",
        "\n",
        "Para esta sección veremos algunas de las funciones principales que existen dentro de pandas, dando una pincelada a sus capacidades. Como recomendación, puede explorar la [documentación](lista_masas), y mirar el tutorial [10 minutes to pandas](https://pandas.pydata.org/docs/user_guide/10min.html), pero no es obligatorio para esta parte."
      ],
      "metadata": {
        "id": "dl611lJmDRTX"
      }
    },
    {
      "cell_type": "markdown",
      "source": [
        "### Creación de datos\n",
        "\n",
        "Recree el siguiente DataFrame **almacen**:\n",
        "\n",
        "\n",
        "|        | Manzana | Frutilla | Melón |\n",
        "|--------|---------|----------|-------|\n",
        "| Stock inicial  | 25      | 80       | 15    |\n",
        "| Ventas | 14      | 60       | 6     |\n"
      ],
      "metadata": {
        "id": "GNUfP72AUx6h"
      }
    },
    {
      "cell_type": "code",
      "source": [
        "datos = {\n",
        "    \"Stock inicial\": [25, 80, 15],\n",
        "    \"Ventas\": [14, 60, 6]\n",
        "}\n",
        "\n",
        "almacen = pd.DataFrame(datos, index=[\"Manzana\", \"Frutilla\", \"Melón\"])\n",
        "print(almacen.T)"
      ],
      "metadata": {
        "id": "XCvsQiEeUxdc",
        "outputId": "ce85ac15-8923-4514-b416-0176487f91d9",
        "colab": {
          "base_uri": "https://localhost:8080/"
        }
      },
      "execution_count": null,
      "outputs": [
        {
          "output_type": "stream",
          "name": "stdout",
          "text": [
            "               Manzana  Frutilla  Melón\n",
            "Stock inicial       25        80     15\n",
            "Ventas              14        60      6\n"
          ]
        }
      ]
    },
    {
      "cell_type": "markdown",
      "source": [
        "Haga ahora un inventario de la cantidad que queda por producto después de las ventas, y añada la fila **bodega** con esta información."
      ],
      "metadata": {
        "id": "IZWCQiRnYWL0"
      }
    },
    {
      "cell_type": "code",
      "source": [
        "almacen[\"Bodega\"] = almacen[\"Stock inicial\"] - almacen[\"Ventas\"]\n",
        "print(almacen.T)"
      ],
      "metadata": {
        "id": "srLlUtC_YV0U",
        "outputId": "b9b64d73-9988-4d8f-802e-f1df4ffdf5e7",
        "colab": {
          "base_uri": "https://localhost:8080/"
        }
      },
      "execution_count": null,
      "outputs": [
        {
          "output_type": "stream",
          "name": "stdout",
          "text": [
            "               Manzana  Frutilla  Melón\n",
            "Stock inicial       25        80     15\n",
            "Ventas              14        60      6\n",
            "Bodega              11        20      9\n"
          ]
        }
      ]
    },
    {
      "cell_type": "markdown",
      "source": [
        "### Visualización de Tablas\n",
        "Para esta parte primero debe montar el drive, lo que permite leer archivos guardados en el mismo. Para esto debe correr la celda de abajo."
      ],
      "metadata": {
        "id": "JwETbfoCIYCp"
      }
    },
    {
      "cell_type": "code",
      "source": [
        "from google.colab import drive\n",
        "drive.mount('/content/drive')    # se le debe abrir una pestaña extra pidiendo permisos"
      ],
      "metadata": {
        "id": "RIoiTqBYbhj4",
        "outputId": "9cfe1d9b-79c5-45d1-a410-64d4fa3de413",
        "colab": {
          "base_uri": "https://localhost:8080/"
        }
      },
      "execution_count": null,
      "outputs": [
        {
          "output_type": "stream",
          "name": "stdout",
          "text": [
            "Drive already mounted at /content/drive; to attempt to forcibly remount, call drive.mount(\"/content/drive\", force_remount=True).\n"
          ]
        }
      ]
    },
    {
      "cell_type": "markdown",
      "source": [
        "Importe el dataset (archivo **censo.csv**) utilizando la función **pd.load_csv(path)** y guárdelo como **df_censo**.\n",
        "\n",
        "En la barra de herramientas ubicada en la izquierda, puede encontrar la ruta (path) al archivo \"censo.csv\" dentro de su drive. Copie la ruta y cargue dicha base de datos en la siguiente celda como se le indica."
      ],
      "metadata": {
        "id": "EjDtd6QIOLlR"
      }
    },
    {
      "cell_type": "code",
      "source": [
        "path = '/content/drive/MyDrive/Tarea_1/censo.csv'\n",
        "df_censo = pd.read_csv(path)"
      ],
      "metadata": {
        "id": "DygboleXOWso"
      },
      "execution_count": null,
      "outputs": []
    },
    {
      "cell_type": "markdown",
      "source": [
        "Con este dataset se pide hacer lo siguiente:\n",
        "\n",
        "* Vea los primeros 10 elementos de $\\textbf{df_censo}$\n",
        "* Vea las columnas del dataframe\n",
        "* Traduzca las columnas a español (manualmente).\n",
        "* Use la función $\\textbf{describe}$ para visualizar la estadística de cada columna del dataframe. ¿Ve algo que no tiene sentido?"
      ],
      "metadata": {
        "id": "WyZK8v-8ewMO"
      }
    },
    {
      "cell_type": "code",
      "source": [
        "# Agregue más celdas si es necesario\n",
        "df_censo.head(10)"
      ],
      "metadata": {
        "id": "OUo-XDcHewui",
        "outputId": "3de59937-44f7-4448-d9d2-7b2384dac864",
        "colab": {
          "base_uri": "https://localhost:8080/",
          "height": 363
        }
      },
      "execution_count": null,
      "outputs": [
        {
          "output_type": "execute_result",
          "data": {
            "text/plain": [
              "                               name        city  age  n_siblings\n",
              "0      Paula_Miguel_Garcia_Gonzalez     Iquique   35           0\n",
              "1         Maria_Pedro_Jimenez_Lopez    Rancagua   49          -1\n",
              "2    Carolina_Juan_Jimenez_Gonzalez     Iquique   16           1\n",
              "3          Lucia_Marta_Jimenez_Sanz    Santiago   42           2\n",
              "4         Marta_Roberto_Garcia_Sanz  Valparaiso   12           3\n",
              "5         Roberto_Paula_Lopez_Gomez       Arica   38          -2\n",
              "6  Pedro_Valentina_Garcia_Hernandez    Santiago   40           0\n",
              "7         Sofia_Marta_Garcia_Garcia    Santiago   10           1\n",
              "8   Carolina_Eduardo_Perez_Gonzalez    Santiago   40           0\n",
              "9     Pedro_Julia_Gonzalez_Gonzalez    Santiago   55           0"
            ],
            "text/html": [
              "\n",
              "  <div id=\"df-888c9c30-1edc-4c35-9103-2b9af190587b\" class=\"colab-df-container\">\n",
              "    <div>\n",
              "<style scoped>\n",
              "    .dataframe tbody tr th:only-of-type {\n",
              "        vertical-align: middle;\n",
              "    }\n",
              "\n",
              "    .dataframe tbody tr th {\n",
              "        vertical-align: top;\n",
              "    }\n",
              "\n",
              "    .dataframe thead th {\n",
              "        text-align: right;\n",
              "    }\n",
              "</style>\n",
              "<table border=\"1\" class=\"dataframe\">\n",
              "  <thead>\n",
              "    <tr style=\"text-align: right;\">\n",
              "      <th></th>\n",
              "      <th>name</th>\n",
              "      <th>city</th>\n",
              "      <th>age</th>\n",
              "      <th>n_siblings</th>\n",
              "    </tr>\n",
              "  </thead>\n",
              "  <tbody>\n",
              "    <tr>\n",
              "      <th>0</th>\n",
              "      <td>Paula_Miguel_Garcia_Gonzalez</td>\n",
              "      <td>Iquique</td>\n",
              "      <td>35</td>\n",
              "      <td>0</td>\n",
              "    </tr>\n",
              "    <tr>\n",
              "      <th>1</th>\n",
              "      <td>Maria_Pedro_Jimenez_Lopez</td>\n",
              "      <td>Rancagua</td>\n",
              "      <td>49</td>\n",
              "      <td>-1</td>\n",
              "    </tr>\n",
              "    <tr>\n",
              "      <th>2</th>\n",
              "      <td>Carolina_Juan_Jimenez_Gonzalez</td>\n",
              "      <td>Iquique</td>\n",
              "      <td>16</td>\n",
              "      <td>1</td>\n",
              "    </tr>\n",
              "    <tr>\n",
              "      <th>3</th>\n",
              "      <td>Lucia_Marta_Jimenez_Sanz</td>\n",
              "      <td>Santiago</td>\n",
              "      <td>42</td>\n",
              "      <td>2</td>\n",
              "    </tr>\n",
              "    <tr>\n",
              "      <th>4</th>\n",
              "      <td>Marta_Roberto_Garcia_Sanz</td>\n",
              "      <td>Valparaiso</td>\n",
              "      <td>12</td>\n",
              "      <td>3</td>\n",
              "    </tr>\n",
              "    <tr>\n",
              "      <th>5</th>\n",
              "      <td>Roberto_Paula_Lopez_Gomez</td>\n",
              "      <td>Arica</td>\n",
              "      <td>38</td>\n",
              "      <td>-2</td>\n",
              "    </tr>\n",
              "    <tr>\n",
              "      <th>6</th>\n",
              "      <td>Pedro_Valentina_Garcia_Hernandez</td>\n",
              "      <td>Santiago</td>\n",
              "      <td>40</td>\n",
              "      <td>0</td>\n",
              "    </tr>\n",
              "    <tr>\n",
              "      <th>7</th>\n",
              "      <td>Sofia_Marta_Garcia_Garcia</td>\n",
              "      <td>Santiago</td>\n",
              "      <td>10</td>\n",
              "      <td>1</td>\n",
              "    </tr>\n",
              "    <tr>\n",
              "      <th>8</th>\n",
              "      <td>Carolina_Eduardo_Perez_Gonzalez</td>\n",
              "      <td>Santiago</td>\n",
              "      <td>40</td>\n",
              "      <td>0</td>\n",
              "    </tr>\n",
              "    <tr>\n",
              "      <th>9</th>\n",
              "      <td>Pedro_Julia_Gonzalez_Gonzalez</td>\n",
              "      <td>Santiago</td>\n",
              "      <td>55</td>\n",
              "      <td>0</td>\n",
              "    </tr>\n",
              "  </tbody>\n",
              "</table>\n",
              "</div>\n",
              "    <div class=\"colab-df-buttons\">\n",
              "\n",
              "  <div class=\"colab-df-container\">\n",
              "    <button class=\"colab-df-convert\" onclick=\"convertToInteractive('df-888c9c30-1edc-4c35-9103-2b9af190587b')\"\n",
              "            title=\"Convert this dataframe to an interactive table.\"\n",
              "            style=\"display:none;\">\n",
              "\n",
              "  <svg xmlns=\"http://www.w3.org/2000/svg\" height=\"24px\" viewBox=\"0 -960 960 960\">\n",
              "    <path d=\"M120-120v-720h720v720H120Zm60-500h600v-160H180v160Zm220 220h160v-160H400v160Zm0 220h160v-160H400v160ZM180-400h160v-160H180v160Zm440 0h160v-160H620v160ZM180-180h160v-160H180v160Zm440 0h160v-160H620v160Z\"/>\n",
              "  </svg>\n",
              "    </button>\n",
              "\n",
              "  <style>\n",
              "    .colab-df-container {\n",
              "      display:flex;\n",
              "      gap: 12px;\n",
              "    }\n",
              "\n",
              "    .colab-df-convert {\n",
              "      background-color: #E8F0FE;\n",
              "      border: none;\n",
              "      border-radius: 50%;\n",
              "      cursor: pointer;\n",
              "      display: none;\n",
              "      fill: #1967D2;\n",
              "      height: 32px;\n",
              "      padding: 0 0 0 0;\n",
              "      width: 32px;\n",
              "    }\n",
              "\n",
              "    .colab-df-convert:hover {\n",
              "      background-color: #E2EBFA;\n",
              "      box-shadow: 0px 1px 2px rgba(60, 64, 67, 0.3), 0px 1px 3px 1px rgba(60, 64, 67, 0.15);\n",
              "      fill: #174EA6;\n",
              "    }\n",
              "\n",
              "    .colab-df-buttons div {\n",
              "      margin-bottom: 4px;\n",
              "    }\n",
              "\n",
              "    [theme=dark] .colab-df-convert {\n",
              "      background-color: #3B4455;\n",
              "      fill: #D2E3FC;\n",
              "    }\n",
              "\n",
              "    [theme=dark] .colab-df-convert:hover {\n",
              "      background-color: #434B5C;\n",
              "      box-shadow: 0px 1px 3px 1px rgba(0, 0, 0, 0.15);\n",
              "      filter: drop-shadow(0px 1px 2px rgba(0, 0, 0, 0.3));\n",
              "      fill: #FFFFFF;\n",
              "    }\n",
              "  </style>\n",
              "\n",
              "    <script>\n",
              "      const buttonEl =\n",
              "        document.querySelector('#df-888c9c30-1edc-4c35-9103-2b9af190587b button.colab-df-convert');\n",
              "      buttonEl.style.display =\n",
              "        google.colab.kernel.accessAllowed ? 'block' : 'none';\n",
              "\n",
              "      async function convertToInteractive(key) {\n",
              "        const element = document.querySelector('#df-888c9c30-1edc-4c35-9103-2b9af190587b');\n",
              "        const dataTable =\n",
              "          await google.colab.kernel.invokeFunction('convertToInteractive',\n",
              "                                                    [key], {});\n",
              "        if (!dataTable) return;\n",
              "\n",
              "        const docLinkHtml = 'Like what you see? Visit the ' +\n",
              "          '<a target=\"_blank\" href=https://colab.research.google.com/notebooks/data_table.ipynb>data table notebook</a>'\n",
              "          + ' to learn more about interactive tables.';\n",
              "        element.innerHTML = '';\n",
              "        dataTable['output_type'] = 'display_data';\n",
              "        await google.colab.output.renderOutput(dataTable, element);\n",
              "        const docLink = document.createElement('div');\n",
              "        docLink.innerHTML = docLinkHtml;\n",
              "        element.appendChild(docLink);\n",
              "      }\n",
              "    </script>\n",
              "  </div>\n",
              "\n",
              "\n",
              "<div id=\"df-625875d9-ef35-4229-9eb6-c9e4f9181147\">\n",
              "  <button class=\"colab-df-quickchart\" onclick=\"quickchart('df-625875d9-ef35-4229-9eb6-c9e4f9181147')\"\n",
              "            title=\"Suggest charts\"\n",
              "            style=\"display:none;\">\n",
              "\n",
              "<svg xmlns=\"http://www.w3.org/2000/svg\" height=\"24px\"viewBox=\"0 0 24 24\"\n",
              "     width=\"24px\">\n",
              "    <g>\n",
              "        <path d=\"M19 3H5c-1.1 0-2 .9-2 2v14c0 1.1.9 2 2 2h14c1.1 0 2-.9 2-2V5c0-1.1-.9-2-2-2zM9 17H7v-7h2v7zm4 0h-2V7h2v10zm4 0h-2v-4h2v4z\"/>\n",
              "    </g>\n",
              "</svg>\n",
              "  </button>\n",
              "\n",
              "<style>\n",
              "  .colab-df-quickchart {\n",
              "      --bg-color: #E8F0FE;\n",
              "      --fill-color: #1967D2;\n",
              "      --hover-bg-color: #E2EBFA;\n",
              "      --hover-fill-color: #174EA6;\n",
              "      --disabled-fill-color: #AAA;\n",
              "      --disabled-bg-color: #DDD;\n",
              "  }\n",
              "\n",
              "  [theme=dark] .colab-df-quickchart {\n",
              "      --bg-color: #3B4455;\n",
              "      --fill-color: #D2E3FC;\n",
              "      --hover-bg-color: #434B5C;\n",
              "      --hover-fill-color: #FFFFFF;\n",
              "      --disabled-bg-color: #3B4455;\n",
              "      --disabled-fill-color: #666;\n",
              "  }\n",
              "\n",
              "  .colab-df-quickchart {\n",
              "    background-color: var(--bg-color);\n",
              "    border: none;\n",
              "    border-radius: 50%;\n",
              "    cursor: pointer;\n",
              "    display: none;\n",
              "    fill: var(--fill-color);\n",
              "    height: 32px;\n",
              "    padding: 0;\n",
              "    width: 32px;\n",
              "  }\n",
              "\n",
              "  .colab-df-quickchart:hover {\n",
              "    background-color: var(--hover-bg-color);\n",
              "    box-shadow: 0 1px 2px rgba(60, 64, 67, 0.3), 0 1px 3px 1px rgba(60, 64, 67, 0.15);\n",
              "    fill: var(--button-hover-fill-color);\n",
              "  }\n",
              "\n",
              "  .colab-df-quickchart-complete:disabled,\n",
              "  .colab-df-quickchart-complete:disabled:hover {\n",
              "    background-color: var(--disabled-bg-color);\n",
              "    fill: var(--disabled-fill-color);\n",
              "    box-shadow: none;\n",
              "  }\n",
              "\n",
              "  .colab-df-spinner {\n",
              "    border: 2px solid var(--fill-color);\n",
              "    border-color: transparent;\n",
              "    border-bottom-color: var(--fill-color);\n",
              "    animation:\n",
              "      spin 1s steps(1) infinite;\n",
              "  }\n",
              "\n",
              "  @keyframes spin {\n",
              "    0% {\n",
              "      border-color: transparent;\n",
              "      border-bottom-color: var(--fill-color);\n",
              "      border-left-color: var(--fill-color);\n",
              "    }\n",
              "    20% {\n",
              "      border-color: transparent;\n",
              "      border-left-color: var(--fill-color);\n",
              "      border-top-color: var(--fill-color);\n",
              "    }\n",
              "    30% {\n",
              "      border-color: transparent;\n",
              "      border-left-color: var(--fill-color);\n",
              "      border-top-color: var(--fill-color);\n",
              "      border-right-color: var(--fill-color);\n",
              "    }\n",
              "    40% {\n",
              "      border-color: transparent;\n",
              "      border-right-color: var(--fill-color);\n",
              "      border-top-color: var(--fill-color);\n",
              "    }\n",
              "    60% {\n",
              "      border-color: transparent;\n",
              "      border-right-color: var(--fill-color);\n",
              "    }\n",
              "    80% {\n",
              "      border-color: transparent;\n",
              "      border-right-color: var(--fill-color);\n",
              "      border-bottom-color: var(--fill-color);\n",
              "    }\n",
              "    90% {\n",
              "      border-color: transparent;\n",
              "      border-bottom-color: var(--fill-color);\n",
              "    }\n",
              "  }\n",
              "</style>\n",
              "\n",
              "  <script>\n",
              "    async function quickchart(key) {\n",
              "      const quickchartButtonEl =\n",
              "        document.querySelector('#' + key + ' button');\n",
              "      quickchartButtonEl.disabled = true;  // To prevent multiple clicks.\n",
              "      quickchartButtonEl.classList.add('colab-df-spinner');\n",
              "      try {\n",
              "        const charts = await google.colab.kernel.invokeFunction(\n",
              "            'suggestCharts', [key], {});\n",
              "      } catch (error) {\n",
              "        console.error('Error during call to suggestCharts:', error);\n",
              "      }\n",
              "      quickchartButtonEl.classList.remove('colab-df-spinner');\n",
              "      quickchartButtonEl.classList.add('colab-df-quickchart-complete');\n",
              "    }\n",
              "    (() => {\n",
              "      let quickchartButtonEl =\n",
              "        document.querySelector('#df-625875d9-ef35-4229-9eb6-c9e4f9181147 button');\n",
              "      quickchartButtonEl.style.display =\n",
              "        google.colab.kernel.accessAllowed ? 'block' : 'none';\n",
              "    })();\n",
              "  </script>\n",
              "</div>\n",
              "\n",
              "    </div>\n",
              "  </div>\n"
            ],
            "application/vnd.google.colaboratory.intrinsic+json": {
              "type": "dataframe",
              "variable_name": "df_censo",
              "summary": "{\n  \"name\": \"df_censo\",\n  \"rows\": 2000,\n  \"fields\": [\n    {\n      \"column\": \"name\",\n      \"properties\": {\n        \"dtype\": \"string\",\n        \"num_unique_values\": 1945,\n        \"samples\": [\n          \"Eduardo_Eduardo_Lopez_Ruiz\",\n          \"Lucia_Julia_Sanz_Zapata\",\n          \"Javier_Juan_Gonzalez_Gonzalez\"\n        ],\n        \"semantic_type\": \"\",\n        \"description\": \"\"\n      }\n    },\n    {\n      \"column\": \"city\",\n      \"properties\": {\n        \"dtype\": \"category\",\n        \"num_unique_values\": 11,\n        \"samples\": [\n          \"Curico\",\n          \"Iquique\",\n          \"Talca\"\n        ],\n        \"semantic_type\": \"\",\n        \"description\": \"\"\n      }\n    },\n    {\n      \"column\": \"age\",\n      \"properties\": {\n        \"dtype\": \"number\",\n        \"std\": 14,\n        \"min\": -26,\n        \"max\": 84,\n        \"num_unique_values\": 92,\n        \"samples\": [\n          61,\n          31,\n          62\n        ],\n        \"semantic_type\": \"\",\n        \"description\": \"\"\n      }\n    },\n    {\n      \"column\": \"n_siblings\",\n      \"properties\": {\n        \"dtype\": \"number\",\n        \"std\": 1,\n        \"min\": -6,\n        \"max\": 7,\n        \"num_unique_values\": 14,\n        \"samples\": [\n          6,\n          -5,\n          0\n        ],\n        \"semantic_type\": \"\",\n        \"description\": \"\"\n      }\n    }\n  ]\n}"
            }
          },
          "metadata": {},
          "execution_count": 6
        }
      ]
    },
    {
      "cell_type": "code",
      "source": [
        "df_censo.columns"
      ],
      "metadata": {
        "id": "ZDmArQX69tTA",
        "outputId": "3ad785bf-ab1b-4990-b5cf-5d88239aff01",
        "colab": {
          "base_uri": "https://localhost:8080/"
        }
      },
      "execution_count": null,
      "outputs": [
        {
          "output_type": "execute_result",
          "data": {
            "text/plain": [
              "Index(['name', 'city', 'age', 'n_siblings'], dtype='object')"
            ]
          },
          "metadata": {},
          "execution_count": 7
        }
      ]
    },
    {
      "cell_type": "code",
      "source": [
        "traduccion = {\"name\": \"nombre\", \"city\": \"ciudad\", \"age\": \"edad\", \"n_siblings\": \"n_hermanos\"}\n",
        "df_censo.rename(columns = traduccion, inplace=True)\n",
        "df_censo.head()"
      ],
      "metadata": {
        "id": "GDwlYFLy-JKw",
        "outputId": "a5bfa73c-d535-4a99-ca33-957a8ea777cf",
        "colab": {
          "base_uri": "https://localhost:8080/",
          "height": 206
        }
      },
      "execution_count": null,
      "outputs": [
        {
          "output_type": "execute_result",
          "data": {
            "text/plain": [
              "                           nombre      ciudad  edad  n_hermanos\n",
              "0    Paula_Miguel_Garcia_Gonzalez     Iquique    35           0\n",
              "1       Maria_Pedro_Jimenez_Lopez    Rancagua    49          -1\n",
              "2  Carolina_Juan_Jimenez_Gonzalez     Iquique    16           1\n",
              "3        Lucia_Marta_Jimenez_Sanz    Santiago    42           2\n",
              "4       Marta_Roberto_Garcia_Sanz  Valparaiso    12           3"
            ],
            "text/html": [
              "\n",
              "  <div id=\"df-00e0b9bd-9b78-4f53-925b-c0b34395a1c5\" class=\"colab-df-container\">\n",
              "    <div>\n",
              "<style scoped>\n",
              "    .dataframe tbody tr th:only-of-type {\n",
              "        vertical-align: middle;\n",
              "    }\n",
              "\n",
              "    .dataframe tbody tr th {\n",
              "        vertical-align: top;\n",
              "    }\n",
              "\n",
              "    .dataframe thead th {\n",
              "        text-align: right;\n",
              "    }\n",
              "</style>\n",
              "<table border=\"1\" class=\"dataframe\">\n",
              "  <thead>\n",
              "    <tr style=\"text-align: right;\">\n",
              "      <th></th>\n",
              "      <th>nombre</th>\n",
              "      <th>ciudad</th>\n",
              "      <th>edad</th>\n",
              "      <th>n_hermanos</th>\n",
              "    </tr>\n",
              "  </thead>\n",
              "  <tbody>\n",
              "    <tr>\n",
              "      <th>0</th>\n",
              "      <td>Paula_Miguel_Garcia_Gonzalez</td>\n",
              "      <td>Iquique</td>\n",
              "      <td>35</td>\n",
              "      <td>0</td>\n",
              "    </tr>\n",
              "    <tr>\n",
              "      <th>1</th>\n",
              "      <td>Maria_Pedro_Jimenez_Lopez</td>\n",
              "      <td>Rancagua</td>\n",
              "      <td>49</td>\n",
              "      <td>-1</td>\n",
              "    </tr>\n",
              "    <tr>\n",
              "      <th>2</th>\n",
              "      <td>Carolina_Juan_Jimenez_Gonzalez</td>\n",
              "      <td>Iquique</td>\n",
              "      <td>16</td>\n",
              "      <td>1</td>\n",
              "    </tr>\n",
              "    <tr>\n",
              "      <th>3</th>\n",
              "      <td>Lucia_Marta_Jimenez_Sanz</td>\n",
              "      <td>Santiago</td>\n",
              "      <td>42</td>\n",
              "      <td>2</td>\n",
              "    </tr>\n",
              "    <tr>\n",
              "      <th>4</th>\n",
              "      <td>Marta_Roberto_Garcia_Sanz</td>\n",
              "      <td>Valparaiso</td>\n",
              "      <td>12</td>\n",
              "      <td>3</td>\n",
              "    </tr>\n",
              "  </tbody>\n",
              "</table>\n",
              "</div>\n",
              "    <div class=\"colab-df-buttons\">\n",
              "\n",
              "  <div class=\"colab-df-container\">\n",
              "    <button class=\"colab-df-convert\" onclick=\"convertToInteractive('df-00e0b9bd-9b78-4f53-925b-c0b34395a1c5')\"\n",
              "            title=\"Convert this dataframe to an interactive table.\"\n",
              "            style=\"display:none;\">\n",
              "\n",
              "  <svg xmlns=\"http://www.w3.org/2000/svg\" height=\"24px\" viewBox=\"0 -960 960 960\">\n",
              "    <path d=\"M120-120v-720h720v720H120Zm60-500h600v-160H180v160Zm220 220h160v-160H400v160Zm0 220h160v-160H400v160ZM180-400h160v-160H180v160Zm440 0h160v-160H620v160ZM180-180h160v-160H180v160Zm440 0h160v-160H620v160Z\"/>\n",
              "  </svg>\n",
              "    </button>\n",
              "\n",
              "  <style>\n",
              "    .colab-df-container {\n",
              "      display:flex;\n",
              "      gap: 12px;\n",
              "    }\n",
              "\n",
              "    .colab-df-convert {\n",
              "      background-color: #E8F0FE;\n",
              "      border: none;\n",
              "      border-radius: 50%;\n",
              "      cursor: pointer;\n",
              "      display: none;\n",
              "      fill: #1967D2;\n",
              "      height: 32px;\n",
              "      padding: 0 0 0 0;\n",
              "      width: 32px;\n",
              "    }\n",
              "\n",
              "    .colab-df-convert:hover {\n",
              "      background-color: #E2EBFA;\n",
              "      box-shadow: 0px 1px 2px rgba(60, 64, 67, 0.3), 0px 1px 3px 1px rgba(60, 64, 67, 0.15);\n",
              "      fill: #174EA6;\n",
              "    }\n",
              "\n",
              "    .colab-df-buttons div {\n",
              "      margin-bottom: 4px;\n",
              "    }\n",
              "\n",
              "    [theme=dark] .colab-df-convert {\n",
              "      background-color: #3B4455;\n",
              "      fill: #D2E3FC;\n",
              "    }\n",
              "\n",
              "    [theme=dark] .colab-df-convert:hover {\n",
              "      background-color: #434B5C;\n",
              "      box-shadow: 0px 1px 3px 1px rgba(0, 0, 0, 0.15);\n",
              "      filter: drop-shadow(0px 1px 2px rgba(0, 0, 0, 0.3));\n",
              "      fill: #FFFFFF;\n",
              "    }\n",
              "  </style>\n",
              "\n",
              "    <script>\n",
              "      const buttonEl =\n",
              "        document.querySelector('#df-00e0b9bd-9b78-4f53-925b-c0b34395a1c5 button.colab-df-convert');\n",
              "      buttonEl.style.display =\n",
              "        google.colab.kernel.accessAllowed ? 'block' : 'none';\n",
              "\n",
              "      async function convertToInteractive(key) {\n",
              "        const element = document.querySelector('#df-00e0b9bd-9b78-4f53-925b-c0b34395a1c5');\n",
              "        const dataTable =\n",
              "          await google.colab.kernel.invokeFunction('convertToInteractive',\n",
              "                                                    [key], {});\n",
              "        if (!dataTable) return;\n",
              "\n",
              "        const docLinkHtml = 'Like what you see? Visit the ' +\n",
              "          '<a target=\"_blank\" href=https://colab.research.google.com/notebooks/data_table.ipynb>data table notebook</a>'\n",
              "          + ' to learn more about interactive tables.';\n",
              "        element.innerHTML = '';\n",
              "        dataTable['output_type'] = 'display_data';\n",
              "        await google.colab.output.renderOutput(dataTable, element);\n",
              "        const docLink = document.createElement('div');\n",
              "        docLink.innerHTML = docLinkHtml;\n",
              "        element.appendChild(docLink);\n",
              "      }\n",
              "    </script>\n",
              "  </div>\n",
              "\n",
              "\n",
              "<div id=\"df-b72f47ae-8e64-42ff-b7ed-3b2534aadea8\">\n",
              "  <button class=\"colab-df-quickchart\" onclick=\"quickchart('df-b72f47ae-8e64-42ff-b7ed-3b2534aadea8')\"\n",
              "            title=\"Suggest charts\"\n",
              "            style=\"display:none;\">\n",
              "\n",
              "<svg xmlns=\"http://www.w3.org/2000/svg\" height=\"24px\"viewBox=\"0 0 24 24\"\n",
              "     width=\"24px\">\n",
              "    <g>\n",
              "        <path d=\"M19 3H5c-1.1 0-2 .9-2 2v14c0 1.1.9 2 2 2h14c1.1 0 2-.9 2-2V5c0-1.1-.9-2-2-2zM9 17H7v-7h2v7zm4 0h-2V7h2v10zm4 0h-2v-4h2v4z\"/>\n",
              "    </g>\n",
              "</svg>\n",
              "  </button>\n",
              "\n",
              "<style>\n",
              "  .colab-df-quickchart {\n",
              "      --bg-color: #E8F0FE;\n",
              "      --fill-color: #1967D2;\n",
              "      --hover-bg-color: #E2EBFA;\n",
              "      --hover-fill-color: #174EA6;\n",
              "      --disabled-fill-color: #AAA;\n",
              "      --disabled-bg-color: #DDD;\n",
              "  }\n",
              "\n",
              "  [theme=dark] .colab-df-quickchart {\n",
              "      --bg-color: #3B4455;\n",
              "      --fill-color: #D2E3FC;\n",
              "      --hover-bg-color: #434B5C;\n",
              "      --hover-fill-color: #FFFFFF;\n",
              "      --disabled-bg-color: #3B4455;\n",
              "      --disabled-fill-color: #666;\n",
              "  }\n",
              "\n",
              "  .colab-df-quickchart {\n",
              "    background-color: var(--bg-color);\n",
              "    border: none;\n",
              "    border-radius: 50%;\n",
              "    cursor: pointer;\n",
              "    display: none;\n",
              "    fill: var(--fill-color);\n",
              "    height: 32px;\n",
              "    padding: 0;\n",
              "    width: 32px;\n",
              "  }\n",
              "\n",
              "  .colab-df-quickchart:hover {\n",
              "    background-color: var(--hover-bg-color);\n",
              "    box-shadow: 0 1px 2px rgba(60, 64, 67, 0.3), 0 1px 3px 1px rgba(60, 64, 67, 0.15);\n",
              "    fill: var(--button-hover-fill-color);\n",
              "  }\n",
              "\n",
              "  .colab-df-quickchart-complete:disabled,\n",
              "  .colab-df-quickchart-complete:disabled:hover {\n",
              "    background-color: var(--disabled-bg-color);\n",
              "    fill: var(--disabled-fill-color);\n",
              "    box-shadow: none;\n",
              "  }\n",
              "\n",
              "  .colab-df-spinner {\n",
              "    border: 2px solid var(--fill-color);\n",
              "    border-color: transparent;\n",
              "    border-bottom-color: var(--fill-color);\n",
              "    animation:\n",
              "      spin 1s steps(1) infinite;\n",
              "  }\n",
              "\n",
              "  @keyframes spin {\n",
              "    0% {\n",
              "      border-color: transparent;\n",
              "      border-bottom-color: var(--fill-color);\n",
              "      border-left-color: var(--fill-color);\n",
              "    }\n",
              "    20% {\n",
              "      border-color: transparent;\n",
              "      border-left-color: var(--fill-color);\n",
              "      border-top-color: var(--fill-color);\n",
              "    }\n",
              "    30% {\n",
              "      border-color: transparent;\n",
              "      border-left-color: var(--fill-color);\n",
              "      border-top-color: var(--fill-color);\n",
              "      border-right-color: var(--fill-color);\n",
              "    }\n",
              "    40% {\n",
              "      border-color: transparent;\n",
              "      border-right-color: var(--fill-color);\n",
              "      border-top-color: var(--fill-color);\n",
              "    }\n",
              "    60% {\n",
              "      border-color: transparent;\n",
              "      border-right-color: var(--fill-color);\n",
              "    }\n",
              "    80% {\n",
              "      border-color: transparent;\n",
              "      border-right-color: var(--fill-color);\n",
              "      border-bottom-color: var(--fill-color);\n",
              "    }\n",
              "    90% {\n",
              "      border-color: transparent;\n",
              "      border-bottom-color: var(--fill-color);\n",
              "    }\n",
              "  }\n",
              "</style>\n",
              "\n",
              "  <script>\n",
              "    async function quickchart(key) {\n",
              "      const quickchartButtonEl =\n",
              "        document.querySelector('#' + key + ' button');\n",
              "      quickchartButtonEl.disabled = true;  // To prevent multiple clicks.\n",
              "      quickchartButtonEl.classList.add('colab-df-spinner');\n",
              "      try {\n",
              "        const charts = await google.colab.kernel.invokeFunction(\n",
              "            'suggestCharts', [key], {});\n",
              "      } catch (error) {\n",
              "        console.error('Error during call to suggestCharts:', error);\n",
              "      }\n",
              "      quickchartButtonEl.classList.remove('colab-df-spinner');\n",
              "      quickchartButtonEl.classList.add('colab-df-quickchart-complete');\n",
              "    }\n",
              "    (() => {\n",
              "      let quickchartButtonEl =\n",
              "        document.querySelector('#df-b72f47ae-8e64-42ff-b7ed-3b2534aadea8 button');\n",
              "      quickchartButtonEl.style.display =\n",
              "        google.colab.kernel.accessAllowed ? 'block' : 'none';\n",
              "    })();\n",
              "  </script>\n",
              "</div>\n",
              "\n",
              "    </div>\n",
              "  </div>\n"
            ],
            "application/vnd.google.colaboratory.intrinsic+json": {
              "type": "dataframe",
              "variable_name": "df_censo",
              "summary": "{\n  \"name\": \"df_censo\",\n  \"rows\": 2000,\n  \"fields\": [\n    {\n      \"column\": \"nombre\",\n      \"properties\": {\n        \"dtype\": \"string\",\n        \"num_unique_values\": 1945,\n        \"samples\": [\n          \"Eduardo_Eduardo_Lopez_Ruiz\",\n          \"Lucia_Julia_Sanz_Zapata\",\n          \"Javier_Juan_Gonzalez_Gonzalez\"\n        ],\n        \"semantic_type\": \"\",\n        \"description\": \"\"\n      }\n    },\n    {\n      \"column\": \"ciudad\",\n      \"properties\": {\n        \"dtype\": \"category\",\n        \"num_unique_values\": 11,\n        \"samples\": [\n          \"Curico\",\n          \"Iquique\",\n          \"Talca\"\n        ],\n        \"semantic_type\": \"\",\n        \"description\": \"\"\n      }\n    },\n    {\n      \"column\": \"edad\",\n      \"properties\": {\n        \"dtype\": \"number\",\n        \"std\": 14,\n        \"min\": -26,\n        \"max\": 84,\n        \"num_unique_values\": 92,\n        \"samples\": [\n          61,\n          31,\n          62\n        ],\n        \"semantic_type\": \"\",\n        \"description\": \"\"\n      }\n    },\n    {\n      \"column\": \"n_hermanos\",\n      \"properties\": {\n        \"dtype\": \"number\",\n        \"std\": 1,\n        \"min\": -6,\n        \"max\": 7,\n        \"num_unique_values\": 14,\n        \"samples\": [\n          6,\n          -5,\n          0\n        ],\n        \"semantic_type\": \"\",\n        \"description\": \"\"\n      }\n    }\n  ]\n}"
            }
          },
          "metadata": {},
          "execution_count": 8
        }
      ]
    },
    {
      "cell_type": "code",
      "source": [
        "df_censo.describe()"
      ],
      "metadata": {
        "id": "MNc6t2TnBNt6",
        "outputId": "ddcb88b6-0b9e-40e8-f6a2-6be494bb5f84",
        "colab": {
          "base_uri": "https://localhost:8080/",
          "height": 300
        }
      },
      "execution_count": null,
      "outputs": [
        {
          "output_type": "execute_result",
          "data": {
            "text/plain": [
              "              edad  n_hermanos\n",
              "count  2000.000000  2000.00000\n",
              "mean     34.286500     0.75000\n",
              "std      14.724158     1.73234\n",
              "min     -26.000000    -6.00000\n",
              "25%      24.000000     0.00000\n",
              "50%      34.000000     0.00000\n",
              "75%      44.000000     2.00000\n",
              "max      84.000000     7.00000"
            ],
            "text/html": [
              "\n",
              "  <div id=\"df-8b7fa910-95fd-4f5d-92a4-8f6d0f86b324\" class=\"colab-df-container\">\n",
              "    <div>\n",
              "<style scoped>\n",
              "    .dataframe tbody tr th:only-of-type {\n",
              "        vertical-align: middle;\n",
              "    }\n",
              "\n",
              "    .dataframe tbody tr th {\n",
              "        vertical-align: top;\n",
              "    }\n",
              "\n",
              "    .dataframe thead th {\n",
              "        text-align: right;\n",
              "    }\n",
              "</style>\n",
              "<table border=\"1\" class=\"dataframe\">\n",
              "  <thead>\n",
              "    <tr style=\"text-align: right;\">\n",
              "      <th></th>\n",
              "      <th>edad</th>\n",
              "      <th>n_hermanos</th>\n",
              "    </tr>\n",
              "  </thead>\n",
              "  <tbody>\n",
              "    <tr>\n",
              "      <th>count</th>\n",
              "      <td>2000.000000</td>\n",
              "      <td>2000.00000</td>\n",
              "    </tr>\n",
              "    <tr>\n",
              "      <th>mean</th>\n",
              "      <td>34.286500</td>\n",
              "      <td>0.75000</td>\n",
              "    </tr>\n",
              "    <tr>\n",
              "      <th>std</th>\n",
              "      <td>14.724158</td>\n",
              "      <td>1.73234</td>\n",
              "    </tr>\n",
              "    <tr>\n",
              "      <th>min</th>\n",
              "      <td>-26.000000</td>\n",
              "      <td>-6.00000</td>\n",
              "    </tr>\n",
              "    <tr>\n",
              "      <th>25%</th>\n",
              "      <td>24.000000</td>\n",
              "      <td>0.00000</td>\n",
              "    </tr>\n",
              "    <tr>\n",
              "      <th>50%</th>\n",
              "      <td>34.000000</td>\n",
              "      <td>0.00000</td>\n",
              "    </tr>\n",
              "    <tr>\n",
              "      <th>75%</th>\n",
              "      <td>44.000000</td>\n",
              "      <td>2.00000</td>\n",
              "    </tr>\n",
              "    <tr>\n",
              "      <th>max</th>\n",
              "      <td>84.000000</td>\n",
              "      <td>7.00000</td>\n",
              "    </tr>\n",
              "  </tbody>\n",
              "</table>\n",
              "</div>\n",
              "    <div class=\"colab-df-buttons\">\n",
              "\n",
              "  <div class=\"colab-df-container\">\n",
              "    <button class=\"colab-df-convert\" onclick=\"convertToInteractive('df-8b7fa910-95fd-4f5d-92a4-8f6d0f86b324')\"\n",
              "            title=\"Convert this dataframe to an interactive table.\"\n",
              "            style=\"display:none;\">\n",
              "\n",
              "  <svg xmlns=\"http://www.w3.org/2000/svg\" height=\"24px\" viewBox=\"0 -960 960 960\">\n",
              "    <path d=\"M120-120v-720h720v720H120Zm60-500h600v-160H180v160Zm220 220h160v-160H400v160Zm0 220h160v-160H400v160ZM180-400h160v-160H180v160Zm440 0h160v-160H620v160ZM180-180h160v-160H180v160Zm440 0h160v-160H620v160Z\"/>\n",
              "  </svg>\n",
              "    </button>\n",
              "\n",
              "  <style>\n",
              "    .colab-df-container {\n",
              "      display:flex;\n",
              "      gap: 12px;\n",
              "    }\n",
              "\n",
              "    .colab-df-convert {\n",
              "      background-color: #E8F0FE;\n",
              "      border: none;\n",
              "      border-radius: 50%;\n",
              "      cursor: pointer;\n",
              "      display: none;\n",
              "      fill: #1967D2;\n",
              "      height: 32px;\n",
              "      padding: 0 0 0 0;\n",
              "      width: 32px;\n",
              "    }\n",
              "\n",
              "    .colab-df-convert:hover {\n",
              "      background-color: #E2EBFA;\n",
              "      box-shadow: 0px 1px 2px rgba(60, 64, 67, 0.3), 0px 1px 3px 1px rgba(60, 64, 67, 0.15);\n",
              "      fill: #174EA6;\n",
              "    }\n",
              "\n",
              "    .colab-df-buttons div {\n",
              "      margin-bottom: 4px;\n",
              "    }\n",
              "\n",
              "    [theme=dark] .colab-df-convert {\n",
              "      background-color: #3B4455;\n",
              "      fill: #D2E3FC;\n",
              "    }\n",
              "\n",
              "    [theme=dark] .colab-df-convert:hover {\n",
              "      background-color: #434B5C;\n",
              "      box-shadow: 0px 1px 3px 1px rgba(0, 0, 0, 0.15);\n",
              "      filter: drop-shadow(0px 1px 2px rgba(0, 0, 0, 0.3));\n",
              "      fill: #FFFFFF;\n",
              "    }\n",
              "  </style>\n",
              "\n",
              "    <script>\n",
              "      const buttonEl =\n",
              "        document.querySelector('#df-8b7fa910-95fd-4f5d-92a4-8f6d0f86b324 button.colab-df-convert');\n",
              "      buttonEl.style.display =\n",
              "        google.colab.kernel.accessAllowed ? 'block' : 'none';\n",
              "\n",
              "      async function convertToInteractive(key) {\n",
              "        const element = document.querySelector('#df-8b7fa910-95fd-4f5d-92a4-8f6d0f86b324');\n",
              "        const dataTable =\n",
              "          await google.colab.kernel.invokeFunction('convertToInteractive',\n",
              "                                                    [key], {});\n",
              "        if (!dataTable) return;\n",
              "\n",
              "        const docLinkHtml = 'Like what you see? Visit the ' +\n",
              "          '<a target=\"_blank\" href=https://colab.research.google.com/notebooks/data_table.ipynb>data table notebook</a>'\n",
              "          + ' to learn more about interactive tables.';\n",
              "        element.innerHTML = '';\n",
              "        dataTable['output_type'] = 'display_data';\n",
              "        await google.colab.output.renderOutput(dataTable, element);\n",
              "        const docLink = document.createElement('div');\n",
              "        docLink.innerHTML = docLinkHtml;\n",
              "        element.appendChild(docLink);\n",
              "      }\n",
              "    </script>\n",
              "  </div>\n",
              "\n",
              "\n",
              "<div id=\"df-e0da1b64-91a7-4200-ae9f-0103ff3aecfb\">\n",
              "  <button class=\"colab-df-quickchart\" onclick=\"quickchart('df-e0da1b64-91a7-4200-ae9f-0103ff3aecfb')\"\n",
              "            title=\"Suggest charts\"\n",
              "            style=\"display:none;\">\n",
              "\n",
              "<svg xmlns=\"http://www.w3.org/2000/svg\" height=\"24px\"viewBox=\"0 0 24 24\"\n",
              "     width=\"24px\">\n",
              "    <g>\n",
              "        <path d=\"M19 3H5c-1.1 0-2 .9-2 2v14c0 1.1.9 2 2 2h14c1.1 0 2-.9 2-2V5c0-1.1-.9-2-2-2zM9 17H7v-7h2v7zm4 0h-2V7h2v10zm4 0h-2v-4h2v4z\"/>\n",
              "    </g>\n",
              "</svg>\n",
              "  </button>\n",
              "\n",
              "<style>\n",
              "  .colab-df-quickchart {\n",
              "      --bg-color: #E8F0FE;\n",
              "      --fill-color: #1967D2;\n",
              "      --hover-bg-color: #E2EBFA;\n",
              "      --hover-fill-color: #174EA6;\n",
              "      --disabled-fill-color: #AAA;\n",
              "      --disabled-bg-color: #DDD;\n",
              "  }\n",
              "\n",
              "  [theme=dark] .colab-df-quickchart {\n",
              "      --bg-color: #3B4455;\n",
              "      --fill-color: #D2E3FC;\n",
              "      --hover-bg-color: #434B5C;\n",
              "      --hover-fill-color: #FFFFFF;\n",
              "      --disabled-bg-color: #3B4455;\n",
              "      --disabled-fill-color: #666;\n",
              "  }\n",
              "\n",
              "  .colab-df-quickchart {\n",
              "    background-color: var(--bg-color);\n",
              "    border: none;\n",
              "    border-radius: 50%;\n",
              "    cursor: pointer;\n",
              "    display: none;\n",
              "    fill: var(--fill-color);\n",
              "    height: 32px;\n",
              "    padding: 0;\n",
              "    width: 32px;\n",
              "  }\n",
              "\n",
              "  .colab-df-quickchart:hover {\n",
              "    background-color: var(--hover-bg-color);\n",
              "    box-shadow: 0 1px 2px rgba(60, 64, 67, 0.3), 0 1px 3px 1px rgba(60, 64, 67, 0.15);\n",
              "    fill: var(--button-hover-fill-color);\n",
              "  }\n",
              "\n",
              "  .colab-df-quickchart-complete:disabled,\n",
              "  .colab-df-quickchart-complete:disabled:hover {\n",
              "    background-color: var(--disabled-bg-color);\n",
              "    fill: var(--disabled-fill-color);\n",
              "    box-shadow: none;\n",
              "  }\n",
              "\n",
              "  .colab-df-spinner {\n",
              "    border: 2px solid var(--fill-color);\n",
              "    border-color: transparent;\n",
              "    border-bottom-color: var(--fill-color);\n",
              "    animation:\n",
              "      spin 1s steps(1) infinite;\n",
              "  }\n",
              "\n",
              "  @keyframes spin {\n",
              "    0% {\n",
              "      border-color: transparent;\n",
              "      border-bottom-color: var(--fill-color);\n",
              "      border-left-color: var(--fill-color);\n",
              "    }\n",
              "    20% {\n",
              "      border-color: transparent;\n",
              "      border-left-color: var(--fill-color);\n",
              "      border-top-color: var(--fill-color);\n",
              "    }\n",
              "    30% {\n",
              "      border-color: transparent;\n",
              "      border-left-color: var(--fill-color);\n",
              "      border-top-color: var(--fill-color);\n",
              "      border-right-color: var(--fill-color);\n",
              "    }\n",
              "    40% {\n",
              "      border-color: transparent;\n",
              "      border-right-color: var(--fill-color);\n",
              "      border-top-color: var(--fill-color);\n",
              "    }\n",
              "    60% {\n",
              "      border-color: transparent;\n",
              "      border-right-color: var(--fill-color);\n",
              "    }\n",
              "    80% {\n",
              "      border-color: transparent;\n",
              "      border-right-color: var(--fill-color);\n",
              "      border-bottom-color: var(--fill-color);\n",
              "    }\n",
              "    90% {\n",
              "      border-color: transparent;\n",
              "      border-bottom-color: var(--fill-color);\n",
              "    }\n",
              "  }\n",
              "</style>\n",
              "\n",
              "  <script>\n",
              "    async function quickchart(key) {\n",
              "      const quickchartButtonEl =\n",
              "        document.querySelector('#' + key + ' button');\n",
              "      quickchartButtonEl.disabled = true;  // To prevent multiple clicks.\n",
              "      quickchartButtonEl.classList.add('colab-df-spinner');\n",
              "      try {\n",
              "        const charts = await google.colab.kernel.invokeFunction(\n",
              "            'suggestCharts', [key], {});\n",
              "      } catch (error) {\n",
              "        console.error('Error during call to suggestCharts:', error);\n",
              "      }\n",
              "      quickchartButtonEl.classList.remove('colab-df-spinner');\n",
              "      quickchartButtonEl.classList.add('colab-df-quickchart-complete');\n",
              "    }\n",
              "    (() => {\n",
              "      let quickchartButtonEl =\n",
              "        document.querySelector('#df-e0da1b64-91a7-4200-ae9f-0103ff3aecfb button');\n",
              "      quickchartButtonEl.style.display =\n",
              "        google.colab.kernel.accessAllowed ? 'block' : 'none';\n",
              "    })();\n",
              "  </script>\n",
              "</div>\n",
              "\n",
              "    </div>\n",
              "  </div>\n"
            ],
            "application/vnd.google.colaboratory.intrinsic+json": {
              "type": "dataframe",
              "summary": "{\n  \"name\": \"df_censo\",\n  \"rows\": 8,\n  \"fields\": [\n    {\n      \"column\": \"edad\",\n      \"properties\": {\n        \"dtype\": \"number\",\n        \"std\": 697.2216653265845,\n        \"min\": -26.0,\n        \"max\": 2000.0,\n        \"num_unique_values\": 8,\n        \"samples\": [\n          34.2865,\n          34.0,\n          2000.0\n        ],\n        \"semantic_type\": \"\",\n        \"description\": \"\"\n      }\n    },\n    {\n      \"column\": \"n_hermanos\",\n      \"properties\": {\n        \"dtype\": \"number\",\n        \"std\": 706.8388012525548,\n        \"min\": -6.0,\n        \"max\": 2000.0,\n        \"num_unique_values\": 7,\n        \"samples\": [\n          2000.0,\n          0.75,\n          2.0\n        ],\n        \"semantic_type\": \"\",\n        \"description\": \"\"\n      }\n    }\n  ]\n}"
            }
          },
          "metadata": {},
          "execution_count": 9
        }
      ]
    },
    {
      "cell_type": "markdown",
      "source": [
        "### Filtar los datos\n",
        "\n",
        "Repare el dataframe siguiendo los siguientes pasos:\n",
        "\n",
        "* Descarte los elementos del dataframe donde la edad sea menor a cero.\n",
        "* Reemplace los casos en que el número de hermanos es menor a cero por cero.\n",
        "* Descarte los casos en que el mismo nombre aparezca más de una vez (use la función [drop_duplicates](https://pandas.pydata.org/docs/reference/api/pandas.DataFrame.drop_duplicates.html#pandas.DataFrame.drop_duplicates) y mantenga el primer elemento: keep = 'first').\n"
      ],
      "metadata": {
        "id": "uSvF60pZkmp0"
      }
    },
    {
      "cell_type": "code",
      "source": [
        "# Agregue más celdas si es necesario\n",
        "df_censo = df_censo[df_censo[\"edad\"] >= 0]\n",
        "df_censo.loc[df_censo[\"n_hermanos\"] < 0] = 0\n",
        "df_censo.drop_duplicates(\"nombre\", keep=\"first\", inplace=True)"
      ],
      "metadata": {
        "id": "iGOSwD5tZVgw"
      },
      "execution_count": null,
      "outputs": []
    },
    {
      "cell_type": "markdown",
      "source": [
        "## 3. Matplotlib\n",
        "\n",
        "Matplotlib es la librería que nos permitirá crear todo tipo de figuras para visualizar nuestros datos ([documentación](https://matplotlib.org/stable/index.html)). A pesar de su popularidad, no posee una gran versatilidad al momento de hacer una visulización interactiva. Sin embargo,su fiabilidad y simplicidad la han hecho una de las librerías fundamentales para la ciencia de datos en Python."
      ],
      "metadata": {
        "id": "4Jrb9jj-m7gj"
      }
    },
    {
      "cell_type": "markdown",
      "source": [
        "### Visualización simple"
      ],
      "metadata": {
        "id": "Z_pmuvFyoZgH"
      }
    },
    {
      "cell_type": "markdown",
      "source": [
        "Genere un arreglo de 100 números que vayan desde 0 a 4$\\pi$."
      ],
      "metadata": {
        "id": "A2FZRiq_awSm"
      }
    },
    {
      "cell_type": "code",
      "source": [
        "x_values = np.linspace(0,4*np.pi,1000)"
      ],
      "metadata": {
        "id": "JOF1ur5-a5X5"
      },
      "execution_count": 4,
      "outputs": []
    },
    {
      "cell_type": "markdown",
      "source": [
        "Utilizando las funciones **np.sin()** y **np.cos()** de numpy, cree la siguiente función:\n",
        "$$f(x) = 1.5[\\sin(3x+\\pi/4)+\\cos(2x)] \\tag{2}$$\n",
        "\n",
        "Luego aplique la función al arreglo generado en la celda de arriba y grafique. Haga el plot sin crear una figura, es decir solo usando el comando **plt.plot(x, y)**.\n"
      ],
      "metadata": {
        "id": "Zj45na83odkj"
      }
    },
    {
      "cell_type": "code",
      "source": [
        "# Escriba la función aquí\n",
        "def f(x):\n",
        "  return 1.5*(np.sin(3*x + np.pi/4) + np.cos(2*x))\n",
        "\n",
        "# Haga el plot aquí\n",
        "plt.plot(x_values, f(x_values))"
      ],
      "metadata": {
        "id": "PLLDWGg-bfw5",
        "outputId": "210973d1-cb21-4d1d-c859-4f0d333020f8",
        "colab": {
          "base_uri": "https://localhost:8080/",
          "height": 447
        }
      },
      "execution_count": 5,
      "outputs": [
        {
          "output_type": "execute_result",
          "data": {
            "text/plain": [
              "[<matplotlib.lines.Line2D at 0x7f7ccd672350>]"
            ]
          },
          "metadata": {},
          "execution_count": 5
        },
        {
          "output_type": "display_data",
          "data": {
            "text/plain": [
              "<Figure size 640x480 with 1 Axes>"
            ],
            "image/png": "[encoded data removed]"
          },
          "metadata": {}
        }
      ]
    },
    {
      "cell_type": "markdown",
      "source": [
        "Ahora incluya también en el plot la misma función  pero con un poco de ruido. Para esto simplemente debes sumar la variable **ruido** definida abajo a la función.\n",
        "\n",
        "Plotee la función ruidosa de color rojo, y en azul la función sin ruido. Incluya además una leyenda con **plt.legend()**. Ojo que para que aparezca la leyenda de la figura, en **plt.plot()** debe incluir el parámetro **label**"
      ],
      "metadata": {
        "id": "Lw99N8KXp5Fw"
      }
    },
    {
      "cell_type": "code",
      "source": [
        "np.random.seed(19680801) # por ahora ignorar esto\n",
        "ruido = 0.4*np.random.randn(len(x_values))\n",
        "\n",
        "# Línea para plotear función sin ruido\n",
        "plt.plot(x_values, f(x_values), label= \"Funciòn sin ruido\")\n",
        "\n",
        "# Línea para plotear función con ruido\n",
        "plt.plot(x_values, f(x_values) + ruido, label= \"FUnciòn con ruido\")\n",
        "plt.legend()"
      ],
      "metadata": {
        "id": "4YyQHyyKcMtn",
        "outputId": "8e9479e1-c93c-4f4f-960a-00a2526683c3",
        "colab": {
          "base_uri": "https://localhost:8080/",
          "height": 447
        }
      },
      "execution_count": 7,
      "outputs": [
        {
          "output_type": "execute_result",
          "data": {
            "text/plain": [
              "<matplotlib.legend.Legend at 0x7f7ccd958280>"
            ]
          },
          "metadata": {},
          "execution_count": 7
        },
        {
          "output_type": "display_data",
          "data": {
            "text/plain": [
              "<Figure size 640x480 with 1 Axes>"
            ],
            "image/png": "[encoded data removed]"
          },
          "metadata": {}
        }
      ]
    },
    {
      "cell_type": "markdown",
      "source": [
        "Es una buena práctica también el siempre inicializar una figura. Esto además permite definir un tamaño al plot que se va a generar. Use **plt.figure(figsize=(size_x, size_y))** para cambiar el tamaño de la figura y recree todo lo que hizo en la celda anterior.\n"
      ],
      "metadata": {
        "id": "1m6lVwVKrcRg"
      }
    },
    {
      "cell_type": "code",
      "source": [],
      "metadata": {
        "id": "xOUYHjMorb9j"
      },
      "execution_count": null,
      "outputs": []
    },
    {
      "cell_type": "markdown",
      "source": [
        "Para estas funciones, sabemos que tiene un mayor sentido definir el eje x en función de $\\pi$ en lugar de números enteros. Haga de nuevo la figura pero ahora utilize la función **plt.xticks()** para reescribir los valores de x como múltiplos de $\\pi$. Utilice como labels la lista **xticks_labels** que ya está definida.\n",
        "\n",
        "Además, tenga en cuenta que se puede escribir texto en latex de la siguiente forma:\n",
        "```\n",
        "r'$\\pi$'\n",
        "```\n",
        "\n"
      ],
      "metadata": {
        "id": "53hjjeSOsYC9"
      }
    },
    {
      "cell_type": "code",
      "source": [
        "xticks_labels = [r'$\\pi$', r'$2\\pi$', r'$3\\pi$', r'$4\\pi$']"
      ],
      "metadata": {
        "id": "u6Fuot6TsXfR"
      },
      "execution_count": null,
      "outputs": []
    },
    {
      "cell_type": "markdown",
      "source": [
        "Como ultimo paso, agregue una grilla con **plt.grid(True)**. Además añada un título a la figura y labels en ambos ejes (x e y) que tengan sentido.\n"
      ],
      "metadata": {
        "id": "Dpx8yHarumHI"
      }
    },
    {
      "cell_type": "code",
      "source": [],
      "metadata": {
        "id": "BXkot8KC0XRl"
      },
      "execution_count": null,
      "outputs": []
    },
    {
      "cell_type": "markdown",
      "source": [
        "### Visualización distribución de estrellas\n",
        "\n",
        "El archivo **galaxy2.csv** contiene datos de la posición de estrellas sintéticas de una galaxia. Al igual que en la sección anterior, cargue los datos utilizando **pd.read_csv()**."
      ],
      "metadata": {
        "id": "8s3ZUKpnwDhp"
      }
    },
    {
      "cell_type": "code",
      "source": [
        "# Carge y abra el archivo\n"
      ],
      "metadata": {
        "id": "JxRQLctFwC48"
      },
      "execution_count": null,
      "outputs": []
    },
    {
      "cell_type": "markdown",
      "source": [
        "Vea los primeros 10 elementos del dataframe. ¿Qué tipo de información puede encontrar? Dado el nombre de las columnas, ¿en qué unidades se encuentran?\n",
        "\n",
        "**Respuesta:** responda aquí a la pregunta"
      ],
      "metadata": {
        "id": "IdcZOkvXp0MM"
      }
    },
    {
      "cell_type": "code",
      "source": [],
      "metadata": {
        "id": "chYkNHv-pvgq"
      },
      "execution_count": null,
      "outputs": []
    },
    {
      "cell_type": "markdown",
      "source": [
        "Plotee las estrellas en el plano $[x, y]$ utilizando **plt.plot()**. Para hacer esto hay que plotear solo los marcadores, esto se puede hacer con: **marker=' . ', linestyle='  '**, o simplemente con **' . '**. Recuerde agregar los labels en cada eje."
      ],
      "metadata": {
        "id": "qh1iC6G0bH5g"
      }
    },
    {
      "cell_type": "code",
      "source": [],
      "metadata": {
        "id": "-gq6Ov1ruk8d"
      },
      "execution_count": null,
      "outputs": []
    },
    {
      "cell_type": "markdown",
      "source": [
        "Se puede ver que muchas de las estrellas se extienden muy lejos de la galaxia. Para simplificar la visualización setee un **plt.xlim()** y **plt.ylim()** en el rago que considere que funcione mejor (Recomendación, como los números son muy grandes, use la notación $1eN$, con $N$ el orden de magnitud, para facilitar la escritura).\n",
        "\n",
        "Adicionalmente, cuando se trabaja con marcadores, podemos usar el parámetro **markersize** para modificar su tamaño. El plot anterior muestra con bastante claridad las estrellas que están más lejanas, pero dificulta la visualización de las regiones más centrales de la galaxia. Actualice el tamaño de los marcadores a $0.5$, de manera que sea más suave la visualización de la distribución de estrellas. Plotee además las estrellas vistas en el plano $[x, y]$, $[x, z]$, $[y, z]$.\n",
        "\n",
        "Recuerde agregar los labels en cada eje.\n",
        "\n",
        "Póngase creativo con los gráficos, defina tamaños de la figura, agregue colores, defina los tamaños de los labels, etc."
      ],
      "metadata": {
        "id": "1SabvzbeeVlJ"
      }
    },
    {
      "cell_type": "code",
      "execution_count": null,
      "metadata": {
        "id": "acf6d529-0b61-46af-a046-2cc1396cd341"
      },
      "outputs": [],
      "source": [
        "# Grafique vista en plano [x, y] aquí\n"
      ]
    },
    {
      "cell_type": "code",
      "source": [
        "# Grafique vista en plano [x, z] aquí\n"
      ],
      "metadata": {
        "id": "OIj5RXJzqQ7V"
      },
      "execution_count": null,
      "outputs": []
    },
    {
      "cell_type": "code",
      "source": [
        "# Grafique vista en plano [y, z] aquí\n"
      ],
      "metadata": {
        "id": "WhI5LenOqQog"
      },
      "execution_count": null,
      "outputs": []
    },
    {
      "cell_type": "markdown",
      "source": [
        "#### Distribuciones\n",
        "\n",
        "Calcule la distancia $r$ y ángulo $\\theta$ de cada una de las estrellas y añada estos valores a las columnas del dataframe original. Donde\n",
        "\n",
        "$r = \\sqrt{x^2 + y^2 + z^2}$\n",
        "\n",
        "$θ = \\arctan(y/x)$\n"
      ],
      "metadata": {
        "id": "WSqhyS8MiWy0"
      }
    },
    {
      "cell_type": "code",
      "execution_count": null,
      "metadata": {
        "id": "ce5f2205-ffd1-4a39-85da-65506e9c4712"
      },
      "outputs": [],
      "source": []
    },
    {
      "cell_type": "markdown",
      "source": [
        "Finalmente, visualize la distribución de $r$ y $\\theta$ con un histograma. Esto se puede contruir desde cero con matplotlib, sin embargo pandas simplifica hacer análisis como estos, permitiendo rápidamente hacer diferentes análisis estadísticos. El siguiente codigo muestra como se puede plotear un histograma a partir de un dataframe de Pandas:\n",
        "\n",
        "\n",
        "```\n",
        "dataframe.plot.hist(y=column_name, bins=n_bins)\n",
        "```\n",
        "\n",
        "Utilice una escala logarítmica en el eje vertical del histograma de la coordenada radial ($r$). Use la cantidad de bins que considere que representen bien la distribución.\n",
        "\n"
      ],
      "metadata": {
        "id": "742377hMjaG_"
      }
    },
    {
      "cell_type": "code",
      "source": [],
      "metadata": {
        "id": "pG4Z0LcijZy1"
      },
      "execution_count": null,
      "outputs": []
    }
  ]
}